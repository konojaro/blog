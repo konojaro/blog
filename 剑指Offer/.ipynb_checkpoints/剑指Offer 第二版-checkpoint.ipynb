{
 "cells": [
  {
   "cell_type": "markdown",
   "metadata": {},
   "source": [
    "# 剑指Offer 第二版 Python题解"
   ]
  },
  {
   "cell_type": "markdown",
   "metadata": {},
   "source": [
    "## 10 斐波那契数列"
   ]
  },
  {
   "cell_type": "code",
   "execution_count": 3,
   "metadata": {},
   "outputs": [
    {
     "name": "stdout",
     "output_type": "stream",
     "text": [
      "fibo: 0 1 1 2 3 5 8 13 21 34 55 "
     ]
    }
   ],
   "source": [
    "def fibo(n):\n",
    "    if n <= 0:\n",
    "        return 0\n",
    "    if n == 1:\n",
    "        return 1\n",
    "    f_2, f_1 = 0, 1\n",
    "    f = 0\n",
    "    for i in range(2, n + 1):\n",
    "        f = f_2 + f_1\n",
    "        f_2, f_1 = f_1, f\n",
    "    return f\n",
    "\n",
    "print ('fibo:', end=' ')\n",
    "for i in range(11):\n",
    "    print (fibo(i), end=' ')"
   ]
  },
  {
   "cell_type": "markdown",
   "metadata": {},
   "source": [
    "## 11 旋转数组的最小数字"
   ]
  },
  {
   "cell_type": "code",
   "execution_count": 4,
   "metadata": {},
   "outputs": [
    {
     "ename": "IndentationError",
     "evalue": "expected an indented block (<ipython-input-4-150c92908810>, line 22)",
     "output_type": "error",
     "traceback": [
      "\u001b[1;36m  File \u001b[1;32m\"<ipython-input-4-150c92908810>\"\u001b[1;36m, line \u001b[1;32m22\u001b[0m\n\u001b[1;33m    return nums[r]\u001b[0m\n\u001b[1;37m    ^\u001b[0m\n\u001b[1;31mIndentationError\u001b[0m\u001b[1;31m:\u001b[0m expected an indented block\n"
     ]
    }
   ],
   "source": [
    "def findMin(nums):\n",
    "    if nums is None or len(nums) is 0:\n",
    "        return None\n",
    "    \n",
    "    l, r = 0, len(nums) - 1\n",
    "    while l < r:\n",
    "        mid = (l + r) // 2\n",
    "        if nums[l] < nums[r]:\n",
    "            return nums[l]\n",
    "        elif nums[l] > nums[r]:\n",
    "            if nums[l] < nums[mid]:\n",
    "                l = mid + 1\n",
    "            else:\n",
    "                r = mid\n",
    "        else: # left == right\n",
    "            if nums[l] < nums[mid]:\n",
    "                l = mid + 1\n",
    "            elif nums[l] > nums[mid]:\n",
    "                r = mid\n",
    "            else:\n",
    "                \n",
    "    return nums[r]\n",
    "\n",
    "print (findMin([3,4,5,1,2]))\n",
    "print (findMin([4,5,6,1,2,3]))"
   ]
  },
  {
   "cell_type": "markdown",
   "metadata": {},
   "source": [
    "# 排序"
   ]
  },
  {
   "cell_type": "markdown",
   "metadata": {},
   "source": [
    "## 快速排序"
   ]
  },
  {
   "cell_type": "code",
   "execution_count": null,
   "metadata": {
    "collapsed": true
   },
   "outputs": [],
   "source": [
    "def partition(arr, low, high):\n",
    "    i = low - 1\n",
    "    pivot = arr[high]\n",
    "    for j in range(low, high):\n",
    "        if arr[j] <= pivot:\n",
    "            i += 1\n",
    "            arr[i], arr[j] = arr[j], arr[i]\n",
    "    arr[i + 1], arr[high] = arr[high], arr[i + 1]\n",
    "    return i + 1\n",
    "\n",
    "def quicksort(arr, low, high):\n",
    "    if low < high:\n",
    "        pi = partition(arr, low, high)\n",
    "        quicksort(arr, low, pi - 1)\n",
    "        quicksort(arr, pi + 1, high)\n",
    "\n",
    "arr = [10, 9, 8, 7, 6, 5, 4, 3, 2, 1]\n",
    "print (arr)\n",
    "quicksort(arr, 0, len(arr) - 1)\n",
    "print (arr)"
   ]
  },
  {
   "cell_type": "markdown",
   "metadata": {},
   "source": [
    "## 归并排序"
   ]
  },
  {
   "cell_type": "code",
   "execution_count": 27,
   "metadata": {},
   "outputs": [
    {
     "name": "stdout",
     "output_type": "stream",
     "text": [
      "[10, 9, 8, 7, 6, 5, 4, 3, 2, 1]\n",
      "[1, 2, 3, 4, 5, 6, 7, 8, 9, 10]\n"
     ]
    }
   ],
   "source": [
    "def merge(arr, low, mid, high):\n",
    "    temp = [0] * (high - low + 1)\n",
    "    i, j, k = low, mid + 1, 0\n",
    "    \n",
    "    while i <= mid and j <= high:\n",
    "        if arr[i] < arr[j]:\n",
    "            temp[k] = arr[i]\n",
    "            i += 1\n",
    "        else:\n",
    "            temp[k] = arr[j]\n",
    "            j += 1\n",
    "        k += 1\n",
    "        \n",
    "    while i <= mid:\n",
    "        temp[k] = arr[i]\n",
    "        k += 1; i += 1\n",
    "        \n",
    "    while j <= high:\n",
    "        temp[k] = arr[j]\n",
    "        k += 1; j += 1\n",
    "    \n",
    "    for k in range(len(temp)):\n",
    "        arr[low + k] = temp[k]\n",
    "\n",
    "def mergesort(arr, low, high):\n",
    "    if low < high:\n",
    "        mid = (low + high) // 2\n",
    "        mergesort(arr, low, mid)\n",
    "        mergesort(arr, mid + 1, high)\n",
    "        merge(arr, low, mid, high)\n",
    "        \n",
    "arr = [10, 9, 8, 7, 6, 5, 4, 3, 2, 1]\n",
    "print (arr)\n",
    "mergesort(arr, 0, len(arr) - 1)\n",
    "print (arr)"
   ]
  },
  {
   "cell_type": "markdown",
   "metadata": {},
   "source": [
    "## 堆排序"
   ]
  },
  {
   "cell_type": "markdown",
   "metadata": {},
   "source": [
    "## 冒泡排序"
   ]
  },
  {
   "cell_type": "code",
   "execution_count": null,
   "metadata": {
    "collapsed": true
   },
   "outputs": [],
   "source": [
    "def bubblesort(arr):\n",
    "    "
   ]
  },
  {
   "cell_type": "markdown",
   "metadata": {},
   "source": [
    "## 插入排序"
   ]
  },
  {
   "cell_type": "code",
   "execution_count": null,
   "metadata": {
    "collapsed": true
   },
   "outputs": [],
   "source": []
  }
 ],
 "metadata": {
  "kernelspec": {
   "display_name": "Python 3",
   "language": "python",
   "name": "python3"
  },
  "language_info": {
   "codemirror_mode": {
    "name": "ipython",
    "version": 3
   },
   "file_extension": ".py",
   "mimetype": "text/x-python",
   "name": "python",
   "nbconvert_exporter": "python",
   "pygments_lexer": "ipython3",
   "version": "3.6.3"
  }
 },
 "nbformat": 4,
 "nbformat_minor": 2
}
