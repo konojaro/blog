{
 "cells": [
  {
   "cell_type": "markdown",
   "metadata": {},
   "source": [
    "# Sorting Algorithms"
   ]
  },
  {
   "cell_type": "markdown",
   "metadata": {},
   "source": [
    "## 排序算法\n",
    "\n",
    "\n",
    "|  排序方法  |     平均时间      |     最坏时间      |     辅助空间      | 稳定性  |\n",
    "| :---- | :----------- | :----------- | :----------- | :--- |\n",
    "|  冒泡排序  |   $O(n^2)$    |   $O(n^2)$    |    $O(1)$     |  稳定  |\n",
    "| 简单选择排序 |   $O(n^2)$    |   $O(n^2)$    |    $O(1)$     |  稳定  |\n",
    "| 直接插入排序 |   $O(n^2)$    |   $O(n^2)$    |    $O(1)$     |  稳定  |\n",
    "|  希尔排序  | $O(n \\log n)$ |   $O(n^2)$    |    $O(1)$     | 不稳定  |\n",
    "|  堆排序   | $O(n \\log n)$ | $O(n \\log n)$ |    $O(1)$     | 不稳定  |\n",
    "|  并归排序  | $O(n \\log n)$ | $O(n \\log n)$ |    $O(n)$     |  稳定  |\n",
    "|  快速排序  | $O(n \\log n)$ |   $O(n^2)$    | $O(n \\log n)$ | 不稳定  |\n",
    "|  基数排序  |  $O(d(n+r))$  |  $O(d(n+r))$  |    $O(n)$     |  稳定  |\n",
    "\n",
    "注：基数排序中，d 为位数，r 为基数，n 为原数组个数。\n",
    "\n",
    "### 快速排序\n",
    "平均时间：$O(n \\log n)$\n",
    "\n",
    "辅助空间：$O(n \\log n)$\n",
    "\n",
    "最好情况：$O(n \\log n)$\n",
    "\n",
    "最坏情况：$O(n^2)$ 数组已经有序（正序、逆序）\n",
    "\n",
    "稳定性：不稳定\n",
    "\n",
    "### 归并排序\n",
    "平均时间：$O(n \\log n)$\n",
    "\n",
    "辅助空间：$O(n)$\n",
    "\n",
    "最好情况：$O(n \\log n)$\n",
    "\n",
    "最坏情况：$O(n \\log n)$\n",
    "\n",
    "稳定性：稳定\n",
    "\n",
    "### 堆排序\n",
    "平均时间：$O(n \\log n)$\n",
    "\n",
    "辅助空间：$O(1)$\n",
    "\n",
    "最好情况：$O(n \\log n)$\n",
    "\n",
    "最坏情况：$O(n \\log n)$\n",
    "\n",
    "稳定性：不稳定\n",
    "\n",
    "### 冒泡排序\n",
    "平均时间：$O(n^2)$\n",
    "\n",
    "辅助空间：$O(1)$\n",
    "\n",
    "最好情况：$O(n)$ 数组正序\n",
    "\n",
    "最坏情况：$O(n^2)$ 数组逆序\n",
    "\n",
    "稳定性：稳定（排序中只交换相邻位置的元素，两个数相等时不交换）\n",
    "\n",
    "### 选择排序\n",
    "平均时间：$O(n^2)$\n",
    "\n",
    "辅助空间：$O(1)$\n",
    "\n",
    "最好情况：$O(n)$\n",
    "\n",
    "最坏情况：$O(n^2)$ 数组逆序\n",
    "\n",
    "稳定性：不稳定\n",
    "\n",
    "\n",
    "### 直接插入排序\n",
    "平均时间：$O(n^2)$\n",
    "\n",
    "辅助空间：$O(1)$\n",
    "\n",
    "最好情况：$O(n)$\n",
    "\n",
    "最坏情况：$O(n^2)$ 数组逆序\n",
    "\n",
    "稳定性：稳定\n",
    "\n",
    "### Shell排序\n",
    "平均时间：$O(n^2)$\n",
    "\n",
    "辅助空间：$O(1)$\n",
    "\n",
    "最好情况：$O(n)$\n",
    "\n",
    "最坏情况：$O(n^2)$ 数组逆序\n",
    "\n",
    "稳定性：稳定"
   ]
  },
  {
   "cell_type": "markdown",
   "metadata": {},
   "source": [
    "## 快速排序"
   ]
  },
  {
   "cell_type": "code",
   "execution_count": 1,
   "metadata": {},
   "outputs": [
    {
     "name": "stdout",
     "output_type": "stream",
     "text": [
      "[10, 9, 8, 7, 6, 5, 4, 3, 2, 1]\n",
      "[1, 2, 3, 4, 5, 6, 7, 8, 9, 10]\n"
     ]
    }
   ],
   "source": [
    "# This function takes last element as pivot, places\n",
    "# the pivot element at its correct position in sorted\n",
    "# array, and places all smaller (smaller than pivot)\n",
    "# to left of pivot and all greater elements to right\n",
    "# of pivot\n",
    "def partition(arr, low, high):\n",
    "    i = low - 1\n",
    "    pivot = arr[high]\n",
    "    for j in range(low, high):\n",
    "        if arr[j] <= pivot:\n",
    "            i += 1\n",
    "            arr[i], arr[j] = arr[j], arr[i]\n",
    "    arr[i + 1], arr[high] = arr[high], arr[i + 1]\n",
    "    return i + 1\n",
    "\n",
    "def quicksort(arr, low, high):\n",
    "    if low < high:\n",
    "        # pi is partitioning index, arr[p] is now\n",
    "        # at right place\n",
    "        pi = partition(arr, low, high)\n",
    "        \n",
    "        # Separately sort elements before\n",
    "        # partition and after partition\n",
    "        quicksort(arr, low, pi - 1)\n",
    "        quicksort(arr, pi + 1, high)\n",
    "\n",
    "arr = [10, 9, 8, 7, 6, 5, 4, 3, 2, 1]\n",
    "print (arr)\n",
    "quicksort(arr, 0, len(arr) - 1)\n",
    "print (arr)"
   ]
  },
  {
   "cell_type": "markdown",
   "metadata": {},
   "source": [
    "## 归并排序"
   ]
  },
  {
   "cell_type": "code",
   "execution_count": 2,
   "metadata": {},
   "outputs": [
    {
     "name": "stdout",
     "output_type": "stream",
     "text": [
      "[10, 9, 8, 7, 6, 5, 4, 3, 2, 1]\n",
      "[1, 2, 3, 4, 5, 6, 7, 8, 9, 10]\n"
     ]
    }
   ],
   "source": [
    "def merge(arr, low, mid, high):\n",
    "    temp = [0] * (high - low + 1)\n",
    "    i, j, k = low, mid + 1, 0\n",
    "    # 较小值放入temp\n",
    "    while i <= mid and j <= high:\n",
    "        if arr[i] < arr[j]:\n",
    "            temp[k] = arr[i]\n",
    "            i += 1\n",
    "        else:\n",
    "            temp[k] = arr[j]\n",
    "            j += 1\n",
    "        k += 1\n",
    "    # 处理较长部分   \n",
    "    while i <= mid:\n",
    "        temp[k] = arr[i]\n",
    "        k += 1; i += 1\n",
    "        \n",
    "    while j <= high:\n",
    "        temp[k] = arr[j]\n",
    "        k += 1; j += 1\n",
    "    # 替换原数组\n",
    "    for k in range(len(temp)):\n",
    "        arr[low + k] = temp[k]\n",
    "\n",
    "def mergesort(arr, low, high):\n",
    "    if low < high:\n",
    "        mid = (low + high) // 2\n",
    "        mergesort(arr, low, mid)\n",
    "        mergesort(arr, mid + 1, high)\n",
    "        merge(arr, low, mid, high)\n",
    "        \n",
    "arr = [10, 9, 8, 7, 6, 5, 4, 3, 2, 1]\n",
    "print (arr)\n",
    "mergesort(arr, 0, len(arr) - 1)\n",
    "print (arr)"
   ]
  },
  {
   "cell_type": "markdown",
   "metadata": {},
   "source": [
    "## 堆排序"
   ]
  },
  {
   "cell_type": "code",
   "execution_count": 23,
   "metadata": {},
   "outputs": [
    {
     "name": "stdout",
     "output_type": "stream",
     "text": [
      "[1, 4, 2, 3, 6, 5, 1]\n",
      "[1, 1, 2, 3, 4, 5, 6]\n"
     ]
    }
   ],
   "source": [
    "# To heapify subtree rooted at index i\n",
    "# n is size of heap\n",
    "def heapify(arr, n, i):\n",
    "    largest = i     # Initialize largest as root\n",
    "    l = 2 * i + 1    # left = 2*i+1\n",
    "    r = 2 * i + 2    # right = 2*i+2\n",
    "    \n",
    "    # See if left child of root exists and\n",
    "    # is greater than root\n",
    "    if l < n and arr[i] < arr[l]:\n",
    "        largest = l\n",
    "    \n",
    "    # See if right child of root exists and\n",
    "    # is greater than root\n",
    "    if r < n and arr[largest] < arr[r]:\n",
    "        largest = r\n",
    "        \n",
    "    # Change root, if needed\n",
    "    if largest != i:\n",
    "        arr[i], arr[largest] = arr[largest], arr[i]\n",
    "        \n",
    "        # Heapify the root\n",
    "        heapify(arr, n, largest)\n",
    "\n",
    "def heapSort(arr):\n",
    "    n = len(arr)\n",
    "    \n",
    "    # Build a maxheap\n",
    "    for i in range(n // 2, -1, -1):\n",
    "        heapify(arr, n, i)\n",
    "    \n",
    "    # One by one extract elements\n",
    "    for i in range(n - 1, -1, -1):\n",
    "        arr[i], arr[0] = arr[0], arr[i]\n",
    "        heapify(arr, i, 0)\n",
    "        \n",
    "arr = [1,4,2,3,6,5,1]\n",
    "print (arr)\n",
    "heapSort(arr)\n",
    "print (arr)"
   ]
  },
  {
   "cell_type": "markdown",
   "metadata": {},
   "source": [
    "## 冒泡排序"
   ]
  },
  {
   "cell_type": "code",
   "execution_count": 18,
   "metadata": {},
   "outputs": [
    {
     "name": "stdout",
     "output_type": "stream",
     "text": [
      "[1, 4, 2, 3, 6, 5, 1]\n",
      "[1, 4, 2, 3, 6, 5, 1]\n",
      "[1, 2, 4, 3, 6, 5, 1]\n",
      "[1, 2, 3, 4, 6, 5, 1]\n",
      "[1, 2, 3, 4, 6, 5, 1]\n",
      "[1, 2, 3, 4, 5, 6, 1]\n",
      "[1, 2, 3, 4, 5, 1, 6]\n",
      "[1, 2, 3, 4, 5, 1, 6]\n",
      "[1, 2, 3, 4, 5, 1, 6]\n",
      "[1, 2, 3, 4, 5, 1, 6]\n",
      "[1, 2, 3, 4, 5, 1, 6]\n",
      "[1, 2, 3, 4, 1, 5, 6]\n",
      "[1, 2, 3, 4, 1, 5, 6]\n",
      "[1, 2, 3, 4, 1, 5, 6]\n",
      "[1, 2, 3, 4, 1, 5, 6]\n",
      "[1, 2, 3, 1, 4, 5, 6]\n",
      "[1, 2, 3, 1, 4, 5, 6]\n",
      "[1, 2, 3, 1, 4, 5, 6]\n",
      "[1, 2, 1, 3, 4, 5, 6]\n",
      "[1, 2, 1, 3, 4, 5, 6]\n",
      "[1, 1, 2, 3, 4, 5, 6]\n",
      "[1, 1, 2, 3, 4, 5, 6]\n",
      "[1, 1, 2, 3, 4, 5, 6]\n"
     ]
    }
   ],
   "source": [
    "def bubbleSort(arr):\n",
    "    n = len(arr)\n",
    " \n",
    "    # Traverse through all array elements\n",
    "    for i in range(n - 1):\n",
    " \n",
    "        # Last i elements are already in place\n",
    "        for j in range(0, n-i-1):\n",
    " \n",
    "            # traverse the array from 0 to n-i-1\n",
    "            # Swap if the element found is greater\n",
    "            # than the next element\n",
    "            if arr[j] > arr[j+1] :\n",
    "                arr[j], arr[j+1] = arr[j+1], arr[j]\n",
    "            print (arr)\n",
    "                \n",
    "arr = [1,4,2,3,6,5,1]\n",
    "print (arr)\n",
    "bubbleSort(arr)\n",
    "print (arr)"
   ]
  },
  {
   "cell_type": "markdown",
   "metadata": {},
   "source": [
    "**Optimized Implementation:**\n",
    "\n",
    "The above function always runs O(n^2) time even if the array is sorted. It can be optimized by stopping the algorithm if inner loop didn’t cause any swap."
   ]
  },
  {
   "cell_type": "code",
   "execution_count": 20,
   "metadata": {},
   "outputs": [
    {
     "name": "stdout",
     "output_type": "stream",
     "text": [
      "[1, 4, 2, 3, 6, 5, 1]\n",
      "[1, 2, 3, 4, 5, 1, 6]\n",
      "[1, 2, 3, 4, 1, 5, 6]\n",
      "[1, 2, 3, 1, 4, 5, 6]\n",
      "[1, 2, 1, 3, 4, 5, 6]\n",
      "[1, 1, 2, 3, 4, 5, 6]\n",
      "[1, 1, 2, 3, 4, 5, 6]\n",
      "[1, 1, 2, 3, 4, 5, 6]\n"
     ]
    }
   ],
   "source": [
    "# An optimized version of Bubble Sort\n",
    "def bubbleSort(arr):\n",
    "    n = len(arr)\n",
    "  \n",
    "    # Traverse through all array elements\n",
    "    for i in range(n):\n",
    "        swapped = False\n",
    " \n",
    "        # Last i elements are already\n",
    "        #  in place\n",
    "        for j in range(0, n-i-1):\n",
    "  \n",
    "            # traverse the array from 0 to\n",
    "            # n-i-1. Swap if the element \n",
    "            # found is greater than the\n",
    "            # next element\n",
    "            if arr[j] > arr[j+1] :\n",
    "                arr[j], arr[j+1] = arr[j+1], arr[j]\n",
    "                swapped = True\n",
    "         \n",
    "        print (arr)\n",
    "        # IF no two elements were swapped\n",
    "        # by inner loop, then break\n",
    "        if swapped == False:\n",
    "            break\n",
    "            \n",
    "arr = [1,4,2,3,6,5,1]\n",
    "print (arr)\n",
    "bubbleSort(arr)\n",
    "print (arr)"
   ]
  },
  {
   "cell_type": "markdown",
   "metadata": {},
   "source": [
    "## 选择排序"
   ]
  },
  {
   "cell_type": "code",
   "execution_count": null,
   "metadata": {
    "collapsed": true
   },
   "outputs": [],
   "source": [
    "def selectionSort(arr):\n",
    "    for i in range(len(arr)):\n",
    "        min"
   ]
  }
 ],
 "metadata": {
  "kernelspec": {
   "display_name": "Python 3",
   "language": "python",
   "name": "python3"
  },
  "language_info": {
   "codemirror_mode": {
    "name": "ipython",
    "version": 3
   },
   "file_extension": ".py",
   "mimetype": "text/x-python",
   "name": "python",
   "nbconvert_exporter": "python",
   "pygments_lexer": "ipython3",
   "version": "3.6.3"
  }
 },
 "nbformat": 4,
 "nbformat_minor": 2
}
